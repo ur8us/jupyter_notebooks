{
 "cells": [
  {
   "cell_type": "code",
   "execution_count": 1,
   "id": "5f1b2e83-ca09-40c3-ae85-03b3580b18d2",
   "metadata": {},
   "outputs": [
    {
     "name": "stderr",
     "output_type": "stream",
     "text": [
      "/tmp/ipykernel_7633/2702549762.py:54: UserWarning: frames=<function data_gen at 0x75c8c0bef9c0> which we can infer the length of, did not pass an explicit *save_count* and passed cache_frame_data=True.  To avoid a possibly unbounded cache, frame data caching has been disabled. To suppress this warning either pass `cache_frame_data=False` or `save_count=MAX_FRAMES`.\n",
      "  ani = animation.FuncAnimation(fig, run, data_gen, blit=True, interval=10,\n"
     ]
    },
    {
     "data": {
      "image/png": "[encoded data removed]",
      "text/plain": [
       "<Figure size 640x480 with 2 Axes>"
      ]
     },
     "metadata": {},
     "output_type": "display_data"
    }
   ],
   "source": [
    "import numpy as np\n",
    "import matplotlib.pyplot as plt\n",
    "import matplotlib.animation as animation\n",
    "\n",
    "def data_gen():\n",
    "    t = data_gen.t\n",
    "    cnt = 0\n",
    "    while cnt < 1000:\n",
    "        cnt+=1\n",
    "        t += 0.05\n",
    "        y1 = np.sin(2*np.pi*t) * np.exp(-t/10.)\n",
    "        y2 = np.cos(2*np.pi*t) * np.exp(-t/10.)\n",
    "        # adapted the data generator to yield both sin and cos\n",
    "        yield t, y1, y2\n",
    "\n",
    "data_gen.t = 0\n",
    "\n",
    "# create a figure with two subplots\n",
    "fig, (ax1, ax2) = plt.subplots(2,1)\n",
    "\n",
    "# intialize two line objects (one in each axes)\n",
    "line1, = ax1.plot([], [], lw=2)\n",
    "line2, = ax2.plot([], [], lw=2, color='r')\n",
    "line = [line1, line2]\n",
    "\n",
    "# the same axes initalizations as before (just now we do it for both of them)\n",
    "for ax in [ax1, ax2]:\n",
    "    ax.set_ylim(-1.1, 1.1)\n",
    "    ax.set_xlim(0, 5)\n",
    "    ax.grid()\n",
    "\n",
    "# initialize the data arrays \n",
    "xdata, y1data, y2data = [], [], []\n",
    "def run(data):\n",
    "    # update the data\n",
    "    t, y1, y2 = data\n",
    "    xdata.append(t)\n",
    "    y1data.append(y1)\n",
    "    y2data.append(y2)\n",
    "\n",
    "    # axis limits checking. Same as before, just for both axes\n",
    "    for ax in [ax1, ax2]:\n",
    "        xmin, xmax = ax.get_xlim()\n",
    "        if t >= xmax:\n",
    "            ax.set_xlim(xmin, 2*xmax)\n",
    "            ax.figure.canvas.draw()\n",
    "\n",
    "    # update the data of both line objects\n",
    "    line[0].set_data(xdata, y1data)\n",
    "    line[1].set_data(xdata, y2data)\n",
    "\n",
    "    return line\n",
    "\n",
    "ani = animation.FuncAnimation(fig, run, data_gen, blit=True, interval=10,\n",
    "    repeat=False)\n",
    "plt.show()"
   ]
  },
  {
   "cell_type": "code",
   "execution_count": null,
   "id": "b4a4e32b-30e7-406e-8a82-393da210af4a",
   "metadata": {},
   "outputs": [],
   "source": []
  }
 ],
 "metadata": {
  "kernelspec": {
   "display_name": "Python 3 (ipykernel)",
   "language": "python",
   "name": "python3"
  },
  "language_info": {
   "codemirror_mode": {
    "name": "ipython",
    "version": 3
   },
   "file_extension": ".py",
   "mimetype": "text/x-python",
   "name": "python",
   "nbconvert_exporter": "python",
   "pygments_lexer": "ipython3",
   "version": "3.12.3"
  }
 },
 "nbformat": 4,
 "nbformat_minor": 5
}
